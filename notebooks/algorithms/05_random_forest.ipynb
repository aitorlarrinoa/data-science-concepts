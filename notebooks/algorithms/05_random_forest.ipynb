{
 "cells": [
  {
   "cell_type": "markdown",
   "id": "88d0d539",
   "metadata": {},
   "source": [
    "This notebook will be used with the aim of showing how a random forest works:"
   ]
  },
  {
   "cell_type": "markdown",
   "id": "d737b055",
   "metadata": {},
   "source": [
    "# 1. Set up"
   ]
  },
  {
   "cell_type": "markdown",
   "id": "a937c5ed",
   "metadata": {},
   "source": [
    "# 2. Import necessary libraries"
   ]
  },
  {
   "cell_type": "code",
   "execution_count": 1,
   "id": "31150ba8",
   "metadata": {},
   "outputs": [],
   "source": [
    "import pandas as pd\n",
    "import numpy as np\n",
    "import matplotlib.pyplot as plt\n",
    "import seaborn as sns\n",
    "\n",
    "from sklearn.model_selection import train_test_split\n",
    "from sklearn.ensemble import RandomForestClassifier\n",
    "from sklearn.metrics import accuracy_score, confusion_matrix, roc_auc_score, roc_curve\n",
    "\n",
    "import category_encoders as ce"
   ]
  },
  {
   "cell_type": "code",
   "execution_count": 2,
   "id": "1b5fe8a2",
   "metadata": {},
   "outputs": [],
   "source": [
    "import warnings\n",
    "\n",
    "warnings.simplefilter(\"ignore\")"
   ]
  },
  {
   "cell_type": "markdown",
   "id": "d2ebc4a1",
   "metadata": {},
   "source": [
    "# 3. Define global variables"
   ]
  },
  {
   "cell_type": "code",
   "execution_count": 3,
   "id": "f55e0e26",
   "metadata": {},
   "outputs": [],
   "source": [
    "INPUT_PATH = \"../../data/credit_card_data/data_modified_binary_classification.csv\""
   ]
  },
  {
   "cell_type": "markdown",
   "id": "f26f6a77",
   "metadata": {},
   "source": [
    "# 4. Functions"
   ]
  },
  {
   "cell_type": "markdown",
   "id": "44121c29",
   "metadata": {},
   "source": [
    "# 5. Code"
   ]
  },
  {
   "cell_type": "markdown",
   "id": "ad9956f7",
   "metadata": {},
   "source": [
    "We are going to make use of some credit card details data. The data is calculated in the notebook *00_transform_data_binary_classification.ipynb*. All needed information about the data is sotred there."
   ]
  },
  {
   "cell_type": "markdown",
   "id": "75036d97",
   "metadata": {},
   "source": [
    "We'll proceed the same way as with the logistic regression and the decision tree in order to give the reader consistency when reading these notebooks"
   ]
  },
  {
   "cell_type": "markdown",
   "id": "b4983492",
   "metadata": {},
   "source": [
    "## 5.1. Load and transform data"
   ]
  },
  {
   "cell_type": "markdown",
   "id": "db2aa116",
   "metadata": {},
   "source": [
    "First of all we are going to load the both the data and the target variables making use of pandas library"
   ]
  },
  {
   "cell_type": "code",
   "execution_count": 4,
   "id": "7d0833a9",
   "metadata": {},
   "outputs": [
    {
     "data": {
      "text/html": [
       "<div>\n",
       "<style scoped>\n",
       "    .dataframe tbody tr th:only-of-type {\n",
       "        vertical-align: middle;\n",
       "    }\n",
       "\n",
       "    .dataframe tbody tr th {\n",
       "        vertical-align: top;\n",
       "    }\n",
       "\n",
       "    .dataframe thead th {\n",
       "        text-align: right;\n",
       "    }\n",
       "</style>\n",
       "<table border=\"1\" class=\"dataframe\">\n",
       "  <thead>\n",
       "    <tr style=\"text-align: right;\">\n",
       "      <th></th>\n",
       "      <th>car_owner</th>\n",
       "      <th>propert_owner</th>\n",
       "      <th>children</th>\n",
       "      <th>type_income</th>\n",
       "      <th>education</th>\n",
       "      <th>marital_status</th>\n",
       "      <th>housing_type</th>\n",
       "      <th>employed_days</th>\n",
       "      <th>mobile_phone</th>\n",
       "      <th>work_phone</th>\n",
       "      <th>phone</th>\n",
       "      <th>email_id</th>\n",
       "      <th>family_members</th>\n",
       "      <th>target</th>\n",
       "    </tr>\n",
       "  </thead>\n",
       "  <tbody>\n",
       "    <tr>\n",
       "      <th>0</th>\n",
       "      <td>Y</td>\n",
       "      <td>Y</td>\n",
       "      <td>0</td>\n",
       "      <td>Pensioner</td>\n",
       "      <td>Higher education</td>\n",
       "      <td>Married</td>\n",
       "      <td>House / apartment</td>\n",
       "      <td>365243</td>\n",
       "      <td>1</td>\n",
       "      <td>0</td>\n",
       "      <td>0</td>\n",
       "      <td>0</td>\n",
       "      <td>2</td>\n",
       "      <td>1</td>\n",
       "    </tr>\n",
       "    <tr>\n",
       "      <th>1</th>\n",
       "      <td>Y</td>\n",
       "      <td>N</td>\n",
       "      <td>0</td>\n",
       "      <td>Commercial associate</td>\n",
       "      <td>Higher education</td>\n",
       "      <td>Married</td>\n",
       "      <td>House / apartment</td>\n",
       "      <td>-586</td>\n",
       "      <td>1</td>\n",
       "      <td>1</td>\n",
       "      <td>1</td>\n",
       "      <td>0</td>\n",
       "      <td>2</td>\n",
       "      <td>1</td>\n",
       "    </tr>\n",
       "    <tr>\n",
       "      <th>2</th>\n",
       "      <td>Y</td>\n",
       "      <td>N</td>\n",
       "      <td>0</td>\n",
       "      <td>Commercial associate</td>\n",
       "      <td>Higher education</td>\n",
       "      <td>Married</td>\n",
       "      <td>House / apartment</td>\n",
       "      <td>-586</td>\n",
       "      <td>1</td>\n",
       "      <td>1</td>\n",
       "      <td>1</td>\n",
       "      <td>0</td>\n",
       "      <td>2</td>\n",
       "      <td>1</td>\n",
       "    </tr>\n",
       "    <tr>\n",
       "      <th>3</th>\n",
       "      <td>Y</td>\n",
       "      <td>N</td>\n",
       "      <td>0</td>\n",
       "      <td>Commercial associate</td>\n",
       "      <td>Higher education</td>\n",
       "      <td>Married</td>\n",
       "      <td>House / apartment</td>\n",
       "      <td>-586</td>\n",
       "      <td>1</td>\n",
       "      <td>1</td>\n",
       "      <td>1</td>\n",
       "      <td>0</td>\n",
       "      <td>2</td>\n",
       "      <td>1</td>\n",
       "    </tr>\n",
       "    <tr>\n",
       "      <th>4</th>\n",
       "      <td>Y</td>\n",
       "      <td>N</td>\n",
       "      <td>0</td>\n",
       "      <td>Pensioner</td>\n",
       "      <td>Higher education</td>\n",
       "      <td>Married</td>\n",
       "      <td>House / apartment</td>\n",
       "      <td>-586</td>\n",
       "      <td>1</td>\n",
       "      <td>1</td>\n",
       "      <td>1</td>\n",
       "      <td>0</td>\n",
       "      <td>2</td>\n",
       "      <td>1</td>\n",
       "    </tr>\n",
       "  </tbody>\n",
       "</table>\n",
       "</div>"
      ],
      "text/plain": [
       "  car_owner propert_owner  children           type_income         education  \\\n",
       "0         Y             Y         0             Pensioner  Higher education   \n",
       "1         Y             N         0  Commercial associate  Higher education   \n",
       "2         Y             N         0  Commercial associate  Higher education   \n",
       "3         Y             N         0  Commercial associate  Higher education   \n",
       "4         Y             N         0             Pensioner  Higher education   \n",
       "\n",
       "  marital_status       housing_type  employed_days  mobile_phone  work_phone  \\\n",
       "0        Married  House / apartment         365243             1           0   \n",
       "1        Married  House / apartment           -586             1           1   \n",
       "2        Married  House / apartment           -586             1           1   \n",
       "3        Married  House / apartment           -586             1           1   \n",
       "4        Married  House / apartment           -586             1           1   \n",
       "\n",
       "   phone  email_id  family_members  target  \n",
       "0      0         0               2       1  \n",
       "1      1         0               2       1  \n",
       "2      1         0               2       1  \n",
       "3      1         0               2       1  \n",
       "4      1         0               2       1  "
      ]
     },
     "execution_count": 4,
     "metadata": {},
     "output_type": "execute_result"
    }
   ],
   "source": [
    "data = pd.read_csv(INPUT_PATH, sep=\";\")\n",
    "data.head()"
   ]
  },
  {
   "cell_type": "markdown",
   "id": "cea32d91",
   "metadata": {},
   "source": [
    "### Train / test split"
   ]
  },
  {
   "cell_type": "markdown",
   "id": "f149b9e8",
   "metadata": {},
   "source": [
    "Before doing transformations in the data, we need to divide it into train and test. **Let's remember that all transformations must be fitted in the training dataset**"
   ]
  },
  {
   "cell_type": "code",
   "execution_count": 5,
   "id": "15c5a2d4",
   "metadata": {},
   "outputs": [],
   "source": [
    "X = data.drop(\"target\", axis=1)\n",
    "y = data[\"target\"]"
   ]
  },
  {
   "cell_type": "code",
   "execution_count": 6,
   "id": "132efc68",
   "metadata": {},
   "outputs": [],
   "source": [
    "X_train, X_test, y_train, y_test = train_test_split(X, y, test_size=0.3, random_state=42)"
   ]
  },
  {
   "cell_type": "markdown",
   "id": "eaf40ff6",
   "metadata": {},
   "source": [
    "We need to transform all categorical columns to numeric. First, let's detect them:"
   ]
  },
  {
   "cell_type": "code",
   "execution_count": 7,
   "id": "77cd4ac1",
   "metadata": {},
   "outputs": [],
   "source": [
    "categorical_cols = data.select_dtypes(include=\"object\").columns"
   ]
  },
  {
   "cell_type": "markdown",
   "id": "41040341",
   "metadata": {},
   "source": [
    "We are going to use target encoder in order to transform the categorical data:"
   ]
  },
  {
   "cell_type": "code",
   "execution_count": 8,
   "id": "80420d04",
   "metadata": {},
   "outputs": [],
   "source": [
    "target_encoder = ce.TargetEncoder(cols = categorical_cols)"
   ]
  },
  {
   "cell_type": "code",
   "execution_count": 9,
   "id": "dc7abb0a",
   "metadata": {},
   "outputs": [],
   "source": [
    "X_train_processed = target_encoder.fit_transform(X_train, y_train)\n",
    "X_test_processed = target_encoder.transform(X_test)"
   ]
  },
  {
   "cell_type": "markdown",
   "id": "1d2204e6",
   "metadata": {},
   "source": [
    "Since random forest is an extension of decision trees, as seen in the *03_decision_tree.ipynb* notebook, we don't need to scale variables. Let's move on then"
   ]
  },
  {
   "cell_type": "markdown",
   "id": "f786d225",
   "metadata": {},
   "source": [
    "## 5.2. Training"
   ]
  },
  {
   "cell_type": "markdown",
   "id": "e8978494",
   "metadata": {},
   "source": [
    "Let's initialize the model and train it then:"
   ]
  },
  {
   "cell_type": "code",
   "execution_count": 22,
   "id": "7eb5f516",
   "metadata": {},
   "outputs": [
    {
     "data": {
      "text/plain": [
       "RandomForestClassifier(max_depth=5, random_state=42)"
      ]
     },
     "execution_count": 22,
     "metadata": {},
     "output_type": "execute_result"
    }
   ],
   "source": [
    "model = RandomForestClassifier(random_state=42, max_depth = 5)\n",
    "\n",
    "model.fit(X_train_processed, y_train)"
   ]
  },
  {
   "cell_type": "markdown",
   "id": "ad41b48a",
   "metadata": {},
   "source": [
    "Once the model is trained, let's calculate predictions of the X_test_precessed data. Before calculating these predictions, we'll set the threshold to 0.1 as done in the logistic regression:"
   ]
  },
  {
   "cell_type": "code",
   "execution_count": 23,
   "id": "3e929939",
   "metadata": {},
   "outputs": [],
   "source": [
    "y_pred_proba = model.predict_proba(X_test_processed)[:, 1]\n",
    "y_pred = np.where(y_pred_proba >= 0.1, 1, 0)"
   ]
  },
  {
   "cell_type": "markdown",
   "id": "e6dcbd19",
   "metadata": {},
   "source": [
    "## 5.3. Metrics calculation"
   ]
  },
  {
   "cell_type": "markdown",
   "id": "7202878f",
   "metadata": {},
   "source": [
    "First, let's calculate some metrics and show them:"
   ]
  },
  {
   "cell_type": "code",
   "execution_count": 24,
   "id": "ced54206",
   "metadata": {},
   "outputs": [],
   "source": [
    "accuracy = accuracy_score(y_test, y_pred)\n",
    "roc_auc = roc_auc_score(y_test, y_pred_proba)"
   ]
  },
  {
   "cell_type": "code",
   "execution_count": 25,
   "id": "2e2eb10c",
   "metadata": {},
   "outputs": [
    {
     "name": "stdout",
     "output_type": "stream",
     "text": [
      "The accuracy error value is: 0.5769230769230769\n",
      "The roc_auc value is: 0.6601799775028121\n"
     ]
    }
   ],
   "source": [
    "print(f\"The accuracy error value is: {accuracy}\")\n",
    "print(f\"The roc_auc value is: {roc_auc}\")"
   ]
  },
  {
   "cell_type": "markdown",
   "id": "f34c908b",
   "metadata": {},
   "source": [
    "Now we will plot both the confusion matrix and the roc curve:"
   ]
  },
  {
   "cell_type": "markdown",
   "id": "5705cd6d",
   "metadata": {},
   "source": [
    "**Confusion matrix:**"
   ]
  },
  {
   "cell_type": "code",
   "execution_count": 26,
   "id": "fc299d49",
   "metadata": {
    "scrolled": true
   },
   "outputs": [
    {
     "name": "stdout",
     "output_type": "stream",
     "text": [
      "The accuracy error value is: 0.5769230769230769\n"
     ]
    }
   ],
   "source": [
    "accuracy = accuracy_score(y_test, y_pred)\n",
    "print(f\"The accuracy error value is: {accuracy}\")"
   ]
  },
  {
   "cell_type": "code",
   "execution_count": 27,
   "id": "b2b5287d",
   "metadata": {},
   "outputs": [],
   "source": [
    "conf_matrix = confusion_matrix(y_test, y_pred, normalize=\"true\")"
   ]
  },
  {
   "cell_type": "code",
   "execution_count": 28,
   "id": "72559628",
   "metadata": {},
   "outputs": [
    {
     "data": {
      "image/png": "[encoded data removed]",
      "text/plain": [
       "<Figure size 576x432 with 1 Axes>"
      ]
     },
     "metadata": {
      "needs_background": "light"
     },
     "output_type": "display_data"
    }
   ],
   "source": [
    "plt.figure(figsize=(8, 6))\n",
    "sns.heatmap(conf_matrix, annot=True, cmap='Blues', fmt='g', cbar=False)\n",
    "plt.xlabel('Predicted')\n",
    "plt.ylabel('Actual')\n",
    "plt.title('Confusion Matrix')\n",
    "plt.show()"
   ]
  },
  {
   "cell_type": "markdown",
   "id": "8a475822",
   "metadata": {},
   "source": [
    "We can observe that the model is not detecting well the positive class instances, in fact, wrong detected ones are more than the good detected ones :S"
   ]
  },
  {
   "cell_type": "markdown",
   "id": "d4878be8",
   "metadata": {},
   "source": [
    "**ROC Curve:**"
   ]
  },
  {
   "cell_type": "code",
   "execution_count": 29,
   "id": "03ebdaad",
   "metadata": {
    "scrolled": false
   },
   "outputs": [
    {
     "data": {
      "image/png": "[encoded data removed]",
      "text/plain": [
       "<Figure size 576x432 with 1 Axes>"
      ]
     },
     "metadata": {
      "needs_background": "light"
     },
     "output_type": "display_data"
    }
   ],
   "source": [
    "fpr, tpr, _ = roc_curve(y_test, y_pred_proba)\n",
    "\n",
    "plt.figure(figsize=(8, 6))\n",
    "plt.plot(fpr, tpr, color='darkorange', lw=2, label=f'ROC Curve (AUC = {round(roc_auc, 2)})')\n",
    "plt.plot([0, 1], [0, 1], color='navy', lw=2, linestyle='--', label='Random')\n",
    "plt.xlabel('False Positive Rate')\n",
    "plt.ylabel('True Positive Rate')\n",
    "plt.title('ROC Curve')\n",
    "plt.legend(loc='lower right')\n",
    "plt.show()"
   ]
  },
  {
   "cell_type": "markdown",
   "id": "bc9d9867",
   "metadata": {},
   "source": [
    "A 0.61 value in AUC gives us the clue that the model has some ability to discriminate between positive and negative instances. It is not a very sharp model, but the model's discriminatory power is slightly better than random guessing. "
   ]
  },
  {
   "cell_type": "markdown",
   "id": "36260c45",
   "metadata": {},
   "source": [
    "Let's see if we have model overfitting:"
   ]
  },
  {
   "cell_type": "code",
   "execution_count": 30,
   "id": "0027562c",
   "metadata": {},
   "outputs": [],
   "source": [
    "y_pred_proba_train = model.predict_proba(X_train_processed)[:, 1]"
   ]
  },
  {
   "cell_type": "code",
   "execution_count": 31,
   "id": "46981e5c",
   "metadata": {},
   "outputs": [
    {
     "data": {
      "text/plain": [
       "0.8598875033884522"
      ]
     },
     "execution_count": 31,
     "metadata": {},
     "output_type": "execute_result"
    }
   ],
   "source": [
    "roc_auc_train = roc_auc_score(y_train, y_pred_proba_train)\n",
    "roc_auc_train"
   ]
  },
  {
   "cell_type": "markdown",
   "id": "db88511e",
   "metadata": {},
   "source": [
    "WE HAVE A LOT OF OVERFITTING. In the real world this would have to be mitigated, touching hyperparameters or attending to the train/test split more carefuly. Since we are just \"playing\" we are not going to give more importance. In more advanced notebooks, we will go through how the overfitting can be mitigated"
   ]
  },
  {
   "cell_type": "markdown",
   "id": "118158a2",
   "metadata": {},
   "source": [
    "## 5.4. Interpretion"
   ]
  },
  {
   "cell_type": "markdown",
   "id": "57b53a79",
   "metadata": {},
   "source": [
    "We are going to attend to the feature importance of the model:"
   ]
  },
  {
   "cell_type": "code",
   "execution_count": 32,
   "id": "b3ba3bba",
   "metadata": {},
   "outputs": [],
   "source": [
    "feature_importances = model.feature_importances_"
   ]
  },
  {
   "cell_type": "code",
   "execution_count": 33,
   "id": "6c67a4cc",
   "metadata": {},
   "outputs": [
    {
     "data": {
      "image/png": "[encoded data removed]",
      "text/plain": [
       "<Figure size 864x432 with 1 Axes>"
      ]
     },
     "metadata": {
      "needs_background": "light"
     },
     "output_type": "display_data"
    }
   ],
   "source": [
    "plt.figure(figsize=(12, 6))\n",
    "plt.bar(range(len(feature_importances)), feature_importances, tick_label=X_train.columns)\n",
    "plt.xlabel('Features')\n",
    "plt.ylabel('Importance')\n",
    "plt.title('Feature Importances')\n",
    "plt.xticks(rotation=45)\n",
    "plt.show()"
   ]
  },
  {
   "cell_type": "markdown",
   "id": "74b1a9de",
   "metadata": {},
   "source": [
    "We observe that the variables employed_day and type_income are is the ones that gives us the biggest *discrimination*. This makes sense because this way we know if a person has been employed for a long or for a short time and his/her type of income!"
   ]
  },
  {
   "cell_type": "markdown",
   "id": "589e92a8",
   "metadata": {},
   "source": [
    "Again, the same way we saw with the logistic regression, results show that the model is pretty poor. We'll need to introduce more complex algorithms. The good news is that we have learned to train a model using the simplest tree based algorithm, the decision tree!\n",
    "\n",
    "**Let's move on!**"
   ]
  }
 ],
 "metadata": {
  "kernelspec": {
   "display_name": "Python [conda env:root] *",
   "language": "python",
   "name": "conda-root-py"
  },
  "language_info": {
   "codemirror_mode": {
    "name": "ipython",
    "version": 3
   },
   "file_extension": ".py",
   "mimetype": "text/x-python",
   "name": "python",
   "nbconvert_exporter": "python",
   "pygments_lexer": "ipython3",
   "version": "3.8.8"
  }
 },
 "nbformat": 4,
 "nbformat_minor": 5
}
