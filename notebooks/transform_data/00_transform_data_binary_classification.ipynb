{
 "cells": [
  {
   "cell_type": "markdown",
   "id": "88d0d539",
   "metadata": {},
   "source": [
    "This notebook will be used with the aim of creating an usable data frame in order to train and show how different classification algorithms work. This data will be stored in the data/ folder. Thus, it can be used for different algorithms' training."
   ]
  },
  {
   "cell_type": "markdown",
   "id": "d737b055",
   "metadata": {},
   "source": [
    "# 1. Set up"
   ]
  },
  {
   "cell_type": "markdown",
   "id": "a937c5ed",
   "metadata": {},
   "source": [
    "# 2. Import necessary libraries"
   ]
  },
  {
   "cell_type": "code",
   "execution_count": 1,
   "id": "31150ba8",
   "metadata": {},
   "outputs": [],
   "source": [
    "import pandas as pd"
   ]
  },
  {
   "cell_type": "code",
   "execution_count": 2,
   "id": "1b5fe8a2",
   "metadata": {},
   "outputs": [],
   "source": [
    "import warnings\n",
    "\n",
    "warnings.simplefilter(\"ignore\")"
   ]
  },
  {
   "cell_type": "markdown",
   "id": "d2ebc4a1",
   "metadata": {},
   "source": [
    "# 3. Define global variables"
   ]
  },
  {
   "cell_type": "code",
   "execution_count": 3,
   "id": "f55e0e26",
   "metadata": {},
   "outputs": [],
   "source": [
    "INPUT_DATA = \"../../data/credit_card_data/Credit_card.csv\"\n",
    "INPUT_TARGET = \"../../data/credit_card_data/Credit_card_label.csv\"\n",
    "\n",
    "OUTPUT_PATH = \"../../data/credit_card_data/data_modified_binary_classification.csv\""
   ]
  },
  {
   "cell_type": "markdown",
   "id": "f26f6a77",
   "metadata": {},
   "source": [
    "# 4. Functions"
   ]
  },
  {
   "cell_type": "markdown",
   "id": "44121c29",
   "metadata": {},
   "source": [
    "# 5. Code"
   ]
  },
  {
   "cell_type": "markdown",
   "id": "ad9956f7",
   "metadata": {},
   "source": [
    "We are going to make use of some credit card details data. The data is taken from https://www.kaggle.com/datasets/rohitudageri/credit-card-details.\n",
    "\n",
    "Variables:\n",
    "\n",
    "- Ind_ID: Client ID\n",
    "- Gender: Gender information\n",
    "- Car_owner: Having car or not\n",
    "- Propert_owner: Having property or not\n",
    "- Children: Count of children\n",
    "- Annual_income: Annual income\n",
    "- Type_Income: Income type\n",
    "- Education: Education level\n",
    "- Marital_status: Marital_status\n",
    "- Housing_type: Living style\n",
    "- Birthday_count: Use backward count from current day (0), -1 means yesterday.\n",
    "- Employed_days: Start date of employment. Use backward count from current day (0). Positive value means, individual is currently unemployed.\n",
    "- Mobile_phone: Any mobile phone\n",
    "- Work_phone: Any work phone\n",
    "- Phone: Any phone number\n",
    "- EMAIL_ID: Any email ID\n",
    "- Type_Occupation: Occupation\n",
    "- Family_Members: Family size\n",
    "- Label: 0 is application approved and 1 is application rejected."
   ]
  },
  {
   "cell_type": "markdown",
   "id": "b4983492",
   "metadata": {},
   "source": [
    "## 5.1. Load and transform data"
   ]
  },
  {
   "cell_type": "markdown",
   "id": "db2aa116",
   "metadata": {},
   "source": [
    "First of all we are going to load the both the data and the target variables making use of pandas library"
   ]
  },
  {
   "cell_type": "code",
   "execution_count": 4,
   "id": "7d0833a9",
   "metadata": {},
   "outputs": [
    {
     "data": {
      "text/html": [
       "<div>\n",
       "<style scoped>\n",
       "    .dataframe tbody tr th:only-of-type {\n",
       "        vertical-align: middle;\n",
       "    }\n",
       "\n",
       "    .dataframe tbody tr th {\n",
       "        vertical-align: top;\n",
       "    }\n",
       "\n",
       "    .dataframe thead th {\n",
       "        text-align: right;\n",
       "    }\n",
       "</style>\n",
       "<table border=\"1\" class=\"dataframe\">\n",
       "  <thead>\n",
       "    <tr style=\"text-align: right;\">\n",
       "      <th></th>\n",
       "      <th>Ind_ID</th>\n",
       "      <th>GENDER</th>\n",
       "      <th>Car_Owner</th>\n",
       "      <th>Propert_Owner</th>\n",
       "      <th>CHILDREN</th>\n",
       "      <th>Annual_income</th>\n",
       "      <th>Type_Income</th>\n",
       "      <th>EDUCATION</th>\n",
       "      <th>Marital_status</th>\n",
       "      <th>Housing_type</th>\n",
       "      <th>Birthday_count</th>\n",
       "      <th>Employed_days</th>\n",
       "      <th>Mobile_phone</th>\n",
       "      <th>Work_Phone</th>\n",
       "      <th>Phone</th>\n",
       "      <th>EMAIL_ID</th>\n",
       "      <th>Type_Occupation</th>\n",
       "      <th>Family_Members</th>\n",
       "    </tr>\n",
       "  </thead>\n",
       "  <tbody>\n",
       "    <tr>\n",
       "      <th>0</th>\n",
       "      <td>5008827</td>\n",
       "      <td>M</td>\n",
       "      <td>Y</td>\n",
       "      <td>Y</td>\n",
       "      <td>0</td>\n",
       "      <td>180000.0</td>\n",
       "      <td>Pensioner</td>\n",
       "      <td>Higher education</td>\n",
       "      <td>Married</td>\n",
       "      <td>House / apartment</td>\n",
       "      <td>-18772.0</td>\n",
       "      <td>365243</td>\n",
       "      <td>1</td>\n",
       "      <td>0</td>\n",
       "      <td>0</td>\n",
       "      <td>0</td>\n",
       "      <td>NaN</td>\n",
       "      <td>2</td>\n",
       "    </tr>\n",
       "    <tr>\n",
       "      <th>1</th>\n",
       "      <td>5009744</td>\n",
       "      <td>F</td>\n",
       "      <td>Y</td>\n",
       "      <td>N</td>\n",
       "      <td>0</td>\n",
       "      <td>315000.0</td>\n",
       "      <td>Commercial associate</td>\n",
       "      <td>Higher education</td>\n",
       "      <td>Married</td>\n",
       "      <td>House / apartment</td>\n",
       "      <td>-13557.0</td>\n",
       "      <td>-586</td>\n",
       "      <td>1</td>\n",
       "      <td>1</td>\n",
       "      <td>1</td>\n",
       "      <td>0</td>\n",
       "      <td>NaN</td>\n",
       "      <td>2</td>\n",
       "    </tr>\n",
       "    <tr>\n",
       "      <th>2</th>\n",
       "      <td>5009746</td>\n",
       "      <td>F</td>\n",
       "      <td>Y</td>\n",
       "      <td>N</td>\n",
       "      <td>0</td>\n",
       "      <td>315000.0</td>\n",
       "      <td>Commercial associate</td>\n",
       "      <td>Higher education</td>\n",
       "      <td>Married</td>\n",
       "      <td>House / apartment</td>\n",
       "      <td>NaN</td>\n",
       "      <td>-586</td>\n",
       "      <td>1</td>\n",
       "      <td>1</td>\n",
       "      <td>1</td>\n",
       "      <td>0</td>\n",
       "      <td>NaN</td>\n",
       "      <td>2</td>\n",
       "    </tr>\n",
       "    <tr>\n",
       "      <th>3</th>\n",
       "      <td>5009749</td>\n",
       "      <td>F</td>\n",
       "      <td>Y</td>\n",
       "      <td>N</td>\n",
       "      <td>0</td>\n",
       "      <td>NaN</td>\n",
       "      <td>Commercial associate</td>\n",
       "      <td>Higher education</td>\n",
       "      <td>Married</td>\n",
       "      <td>House / apartment</td>\n",
       "      <td>-13557.0</td>\n",
       "      <td>-586</td>\n",
       "      <td>1</td>\n",
       "      <td>1</td>\n",
       "      <td>1</td>\n",
       "      <td>0</td>\n",
       "      <td>NaN</td>\n",
       "      <td>2</td>\n",
       "    </tr>\n",
       "    <tr>\n",
       "      <th>4</th>\n",
       "      <td>5009752</td>\n",
       "      <td>F</td>\n",
       "      <td>Y</td>\n",
       "      <td>N</td>\n",
       "      <td>0</td>\n",
       "      <td>315000.0</td>\n",
       "      <td>Commercial associate</td>\n",
       "      <td>Higher education</td>\n",
       "      <td>Married</td>\n",
       "      <td>House / apartment</td>\n",
       "      <td>-13557.0</td>\n",
       "      <td>-586</td>\n",
       "      <td>1</td>\n",
       "      <td>1</td>\n",
       "      <td>1</td>\n",
       "      <td>0</td>\n",
       "      <td>NaN</td>\n",
       "      <td>2</td>\n",
       "    </tr>\n",
       "  </tbody>\n",
       "</table>\n",
       "</div>"
      ],
      "text/plain": [
       "    Ind_ID GENDER Car_Owner Propert_Owner  CHILDREN  Annual_income  \\\n",
       "0  5008827      M         Y             Y         0       180000.0   \n",
       "1  5009744      F         Y             N         0       315000.0   \n",
       "2  5009746      F         Y             N         0       315000.0   \n",
       "3  5009749      F         Y             N         0            NaN   \n",
       "4  5009752      F         Y             N         0       315000.0   \n",
       "\n",
       "            Type_Income         EDUCATION Marital_status       Housing_type  \\\n",
       "0             Pensioner  Higher education        Married  House / apartment   \n",
       "1  Commercial associate  Higher education        Married  House / apartment   \n",
       "2  Commercial associate  Higher education        Married  House / apartment   \n",
       "3  Commercial associate  Higher education        Married  House / apartment   \n",
       "4  Commercial associate  Higher education        Married  House / apartment   \n",
       "\n",
       "   Birthday_count  Employed_days  Mobile_phone  Work_Phone  Phone  EMAIL_ID  \\\n",
       "0        -18772.0         365243             1           0      0         0   \n",
       "1        -13557.0           -586             1           1      1         0   \n",
       "2             NaN           -586             1           1      1         0   \n",
       "3        -13557.0           -586             1           1      1         0   \n",
       "4        -13557.0           -586             1           1      1         0   \n",
       "\n",
       "  Type_Occupation  Family_Members  \n",
       "0             NaN               2  \n",
       "1             NaN               2  \n",
       "2             NaN               2  \n",
       "3             NaN               2  \n",
       "4             NaN               2  "
      ]
     },
     "execution_count": 4,
     "metadata": {},
     "output_type": "execute_result"
    }
   ],
   "source": [
    "data = pd.read_csv(INPUT_DATA)\n",
    "data.head()"
   ]
  },
  {
   "cell_type": "code",
   "execution_count": 5,
   "id": "106677a5",
   "metadata": {},
   "outputs": [
    {
     "data": {
      "text/html": [
       "<div>\n",
       "<style scoped>\n",
       "    .dataframe tbody tr th:only-of-type {\n",
       "        vertical-align: middle;\n",
       "    }\n",
       "\n",
       "    .dataframe tbody tr th {\n",
       "        vertical-align: top;\n",
       "    }\n",
       "\n",
       "    .dataframe thead th {\n",
       "        text-align: right;\n",
       "    }\n",
       "</style>\n",
       "<table border=\"1\" class=\"dataframe\">\n",
       "  <thead>\n",
       "    <tr style=\"text-align: right;\">\n",
       "      <th></th>\n",
       "      <th>Ind_ID</th>\n",
       "      <th>target</th>\n",
       "    </tr>\n",
       "  </thead>\n",
       "  <tbody>\n",
       "    <tr>\n",
       "      <th>0</th>\n",
       "      <td>5008827</td>\n",
       "      <td>1</td>\n",
       "    </tr>\n",
       "    <tr>\n",
       "      <th>1</th>\n",
       "      <td>5009744</td>\n",
       "      <td>1</td>\n",
       "    </tr>\n",
       "    <tr>\n",
       "      <th>2</th>\n",
       "      <td>5009746</td>\n",
       "      <td>1</td>\n",
       "    </tr>\n",
       "    <tr>\n",
       "      <th>3</th>\n",
       "      <td>5009749</td>\n",
       "      <td>1</td>\n",
       "    </tr>\n",
       "    <tr>\n",
       "      <th>4</th>\n",
       "      <td>5009752</td>\n",
       "      <td>1</td>\n",
       "    </tr>\n",
       "  </tbody>\n",
       "</table>\n",
       "</div>"
      ],
      "text/plain": [
       "    Ind_ID  target\n",
       "0  5008827       1\n",
       "1  5009744       1\n",
       "2  5009746       1\n",
       "3  5009749       1\n",
       "4  5009752       1"
      ]
     },
     "execution_count": 5,
     "metadata": {},
     "output_type": "execute_result"
    }
   ],
   "source": [
    "target = pd.read_csv(INPUT_TARGET).rename(columns={\"label\": \"target\"})\n",
    "target.head()"
   ]
  },
  {
   "cell_type": "markdown",
   "id": "6e7c4994",
   "metadata": {},
   "source": [
    "Let's join both data frames in order to have the complete dataset:"
   ]
  },
  {
   "cell_type": "code",
   "execution_count": 6,
   "id": "8d02b8cc",
   "metadata": {},
   "outputs": [
    {
     "data": {
      "text/html": [
       "<div>\n",
       "<style scoped>\n",
       "    .dataframe tbody tr th:only-of-type {\n",
       "        vertical-align: middle;\n",
       "    }\n",
       "\n",
       "    .dataframe tbody tr th {\n",
       "        vertical-align: top;\n",
       "    }\n",
       "\n",
       "    .dataframe thead th {\n",
       "        text-align: right;\n",
       "    }\n",
       "</style>\n",
       "<table border=\"1\" class=\"dataframe\">\n",
       "  <thead>\n",
       "    <tr style=\"text-align: right;\">\n",
       "      <th></th>\n",
       "      <th>Ind_ID</th>\n",
       "      <th>GENDER</th>\n",
       "      <th>Car_Owner</th>\n",
       "      <th>Propert_Owner</th>\n",
       "      <th>CHILDREN</th>\n",
       "      <th>Annual_income</th>\n",
       "      <th>Type_Income</th>\n",
       "      <th>EDUCATION</th>\n",
       "      <th>Marital_status</th>\n",
       "      <th>Housing_type</th>\n",
       "      <th>Birthday_count</th>\n",
       "      <th>Employed_days</th>\n",
       "      <th>Mobile_phone</th>\n",
       "      <th>Work_Phone</th>\n",
       "      <th>Phone</th>\n",
       "      <th>EMAIL_ID</th>\n",
       "      <th>Type_Occupation</th>\n",
       "      <th>Family_Members</th>\n",
       "      <th>target</th>\n",
       "    </tr>\n",
       "  </thead>\n",
       "  <tbody>\n",
       "    <tr>\n",
       "      <th>0</th>\n",
       "      <td>5008827</td>\n",
       "      <td>M</td>\n",
       "      <td>Y</td>\n",
       "      <td>Y</td>\n",
       "      <td>0</td>\n",
       "      <td>180000.0</td>\n",
       "      <td>Pensioner</td>\n",
       "      <td>Higher education</td>\n",
       "      <td>Married</td>\n",
       "      <td>House / apartment</td>\n",
       "      <td>-18772.0</td>\n",
       "      <td>365243</td>\n",
       "      <td>1</td>\n",
       "      <td>0</td>\n",
       "      <td>0</td>\n",
       "      <td>0</td>\n",
       "      <td>NaN</td>\n",
       "      <td>2</td>\n",
       "      <td>1</td>\n",
       "    </tr>\n",
       "    <tr>\n",
       "      <th>1</th>\n",
       "      <td>5009744</td>\n",
       "      <td>F</td>\n",
       "      <td>Y</td>\n",
       "      <td>N</td>\n",
       "      <td>0</td>\n",
       "      <td>315000.0</td>\n",
       "      <td>Commercial associate</td>\n",
       "      <td>Higher education</td>\n",
       "      <td>Married</td>\n",
       "      <td>House / apartment</td>\n",
       "      <td>-13557.0</td>\n",
       "      <td>-586</td>\n",
       "      <td>1</td>\n",
       "      <td>1</td>\n",
       "      <td>1</td>\n",
       "      <td>0</td>\n",
       "      <td>NaN</td>\n",
       "      <td>2</td>\n",
       "      <td>1</td>\n",
       "    </tr>\n",
       "    <tr>\n",
       "      <th>2</th>\n",
       "      <td>5009746</td>\n",
       "      <td>F</td>\n",
       "      <td>Y</td>\n",
       "      <td>N</td>\n",
       "      <td>0</td>\n",
       "      <td>315000.0</td>\n",
       "      <td>Commercial associate</td>\n",
       "      <td>Higher education</td>\n",
       "      <td>Married</td>\n",
       "      <td>House / apartment</td>\n",
       "      <td>NaN</td>\n",
       "      <td>-586</td>\n",
       "      <td>1</td>\n",
       "      <td>1</td>\n",
       "      <td>1</td>\n",
       "      <td>0</td>\n",
       "      <td>NaN</td>\n",
       "      <td>2</td>\n",
       "      <td>1</td>\n",
       "    </tr>\n",
       "    <tr>\n",
       "      <th>3</th>\n",
       "      <td>5009749</td>\n",
       "      <td>F</td>\n",
       "      <td>Y</td>\n",
       "      <td>N</td>\n",
       "      <td>0</td>\n",
       "      <td>NaN</td>\n",
       "      <td>Commercial associate</td>\n",
       "      <td>Higher education</td>\n",
       "      <td>Married</td>\n",
       "      <td>House / apartment</td>\n",
       "      <td>-13557.0</td>\n",
       "      <td>-586</td>\n",
       "      <td>1</td>\n",
       "      <td>1</td>\n",
       "      <td>1</td>\n",
       "      <td>0</td>\n",
       "      <td>NaN</td>\n",
       "      <td>2</td>\n",
       "      <td>1</td>\n",
       "    </tr>\n",
       "    <tr>\n",
       "      <th>4</th>\n",
       "      <td>5009752</td>\n",
       "      <td>F</td>\n",
       "      <td>Y</td>\n",
       "      <td>N</td>\n",
       "      <td>0</td>\n",
       "      <td>315000.0</td>\n",
       "      <td>Commercial associate</td>\n",
       "      <td>Higher education</td>\n",
       "      <td>Married</td>\n",
       "      <td>House / apartment</td>\n",
       "      <td>-13557.0</td>\n",
       "      <td>-586</td>\n",
       "      <td>1</td>\n",
       "      <td>1</td>\n",
       "      <td>1</td>\n",
       "      <td>0</td>\n",
       "      <td>NaN</td>\n",
       "      <td>2</td>\n",
       "      <td>1</td>\n",
       "    </tr>\n",
       "  </tbody>\n",
       "</table>\n",
       "</div>"
      ],
      "text/plain": [
       "    Ind_ID GENDER Car_Owner Propert_Owner  CHILDREN  Annual_income  \\\n",
       "0  5008827      M         Y             Y         0       180000.0   \n",
       "1  5009744      F         Y             N         0       315000.0   \n",
       "2  5009746      F         Y             N         0       315000.0   \n",
       "3  5009749      F         Y             N         0            NaN   \n",
       "4  5009752      F         Y             N         0       315000.0   \n",
       "\n",
       "            Type_Income         EDUCATION Marital_status       Housing_type  \\\n",
       "0             Pensioner  Higher education        Married  House / apartment   \n",
       "1  Commercial associate  Higher education        Married  House / apartment   \n",
       "2  Commercial associate  Higher education        Married  House / apartment   \n",
       "3  Commercial associate  Higher education        Married  House / apartment   \n",
       "4  Commercial associate  Higher education        Married  House / apartment   \n",
       "\n",
       "   Birthday_count  Employed_days  Mobile_phone  Work_Phone  Phone  EMAIL_ID  \\\n",
       "0        -18772.0         365243             1           0      0         0   \n",
       "1        -13557.0           -586             1           1      1         0   \n",
       "2             NaN           -586             1           1      1         0   \n",
       "3        -13557.0           -586             1           1      1         0   \n",
       "4        -13557.0           -586             1           1      1         0   \n",
       "\n",
       "  Type_Occupation  Family_Members  target  \n",
       "0             NaN               2       1  \n",
       "1             NaN               2       1  \n",
       "2             NaN               2       1  \n",
       "3             NaN               2       1  \n",
       "4             NaN               2       1  "
      ]
     },
     "execution_count": 6,
     "metadata": {},
     "output_type": "execute_result"
    }
   ],
   "source": [
    "input_df = data.merge(target, on=[\"Ind_ID\"], how=\"inner\")\n",
    "\n",
    "input_df.head()"
   ]
  },
  {
   "cell_type": "markdown",
   "id": "9e45f421",
   "metadata": {},
   "source": [
    "First of all let's modify column names, lowercase always"
   ]
  },
  {
   "cell_type": "code",
   "execution_count": 7,
   "id": "4b63e094",
   "metadata": {},
   "outputs": [],
   "source": [
    "input_df.rename(columns=str.lower, inplace=True)"
   ]
  },
  {
   "cell_type": "markdown",
   "id": "20c38946",
   "metadata": {},
   "source": [
    "Now, we are going to delete the id, we are not using it:"
   ]
  },
  {
   "cell_type": "code",
   "execution_count": 8,
   "id": "d57002ad",
   "metadata": {},
   "outputs": [],
   "source": [
    "input_df.drop(\"ind_id\", axis=1, inplace=True)"
   ]
  },
  {
   "cell_type": "markdown",
   "id": "ed94af2d",
   "metadata": {},
   "source": [
    "Let's do a little EDA in order to understand the data and to determine wether if we can use all the information or not."
   ]
  },
  {
   "cell_type": "markdown",
   "id": "546e6396",
   "metadata": {},
   "source": [
    "### Duplicated data?"
   ]
  },
  {
   "cell_type": "code",
   "execution_count": 9,
   "id": "4b1d4d12",
   "metadata": {},
   "outputs": [
    {
     "data": {
      "text/plain": [
       "162"
      ]
     },
     "execution_count": 9,
     "metadata": {},
     "output_type": "execute_result"
    }
   ],
   "source": [
    "input_df.duplicated().sum()"
   ]
  },
  {
   "cell_type": "code",
   "execution_count": 10,
   "id": "66513de6",
   "metadata": {},
   "outputs": [],
   "source": [
    "input_df.drop_duplicates(inplace=True)"
   ]
  },
  {
   "cell_type": "markdown",
   "id": "83dddd0f",
   "metadata": {},
   "source": [
    "### Null values?"
   ]
  },
  {
   "cell_type": "code",
   "execution_count": 11,
   "id": "4233e866",
   "metadata": {},
   "outputs": [
    {
     "data": {
      "text/plain": [
       "gender              0.505051\n",
       "car_owner           0.000000\n",
       "propert_owner       0.000000\n",
       "children            0.000000\n",
       "annual_income       1.659452\n",
       "type_income         0.000000\n",
       "education           0.000000\n",
       "marital_status      0.000000\n",
       "housing_type        0.000000\n",
       "birthday_count      1.587302\n",
       "employed_days       0.000000\n",
       "mobile_phone        0.000000\n",
       "work_phone          0.000000\n",
       "phone               0.000000\n",
       "email_id            0.000000\n",
       "type_occupation    31.601732\n",
       "family_members      0.000000\n",
       "target              0.000000\n",
       "dtype: float64"
      ]
     },
     "execution_count": 11,
     "metadata": {},
     "output_type": "execute_result"
    }
   ],
   "source": [
    "input_df.isnull().mean() * 100"
   ]
  },
  {
   "cell_type": "markdown",
   "id": "c0b839e2",
   "metadata": {},
   "source": [
    "Watching this, as our aim is to see the functioning of the logistic regression, we are going to delete the variables where we have some null values although this shouldn't be done but we are just focusing on logistic regression functioning"
   ]
  },
  {
   "cell_type": "code",
   "execution_count": 12,
   "id": "c9377072",
   "metadata": {},
   "outputs": [],
   "source": [
    "input_df.drop([\"type_occupation\", \"gender\", \"birthday_count\", \"annual_income\"], axis=1, inplace=True)"
   ]
  },
  {
   "cell_type": "code",
   "execution_count": 13,
   "id": "8523b554",
   "metadata": {},
   "outputs": [
    {
     "data": {
      "text/html": [
       "<div>\n",
       "<style scoped>\n",
       "    .dataframe tbody tr th:only-of-type {\n",
       "        vertical-align: middle;\n",
       "    }\n",
       "\n",
       "    .dataframe tbody tr th {\n",
       "        vertical-align: top;\n",
       "    }\n",
       "\n",
       "    .dataframe thead th {\n",
       "        text-align: right;\n",
       "    }\n",
       "</style>\n",
       "<table border=\"1\" class=\"dataframe\">\n",
       "  <thead>\n",
       "    <tr style=\"text-align: right;\">\n",
       "      <th></th>\n",
       "      <th>car_owner</th>\n",
       "      <th>propert_owner</th>\n",
       "      <th>children</th>\n",
       "      <th>type_income</th>\n",
       "      <th>education</th>\n",
       "      <th>marital_status</th>\n",
       "      <th>housing_type</th>\n",
       "      <th>employed_days</th>\n",
       "      <th>mobile_phone</th>\n",
       "      <th>work_phone</th>\n",
       "      <th>phone</th>\n",
       "      <th>email_id</th>\n",
       "      <th>family_members</th>\n",
       "      <th>target</th>\n",
       "    </tr>\n",
       "  </thead>\n",
       "  <tbody>\n",
       "    <tr>\n",
       "      <th>0</th>\n",
       "      <td>Y</td>\n",
       "      <td>Y</td>\n",
       "      <td>0</td>\n",
       "      <td>Pensioner</td>\n",
       "      <td>Higher education</td>\n",
       "      <td>Married</td>\n",
       "      <td>House / apartment</td>\n",
       "      <td>365243</td>\n",
       "      <td>1</td>\n",
       "      <td>0</td>\n",
       "      <td>0</td>\n",
       "      <td>0</td>\n",
       "      <td>2</td>\n",
       "      <td>1</td>\n",
       "    </tr>\n",
       "    <tr>\n",
       "      <th>1</th>\n",
       "      <td>Y</td>\n",
       "      <td>N</td>\n",
       "      <td>0</td>\n",
       "      <td>Commercial associate</td>\n",
       "      <td>Higher education</td>\n",
       "      <td>Married</td>\n",
       "      <td>House / apartment</td>\n",
       "      <td>-586</td>\n",
       "      <td>1</td>\n",
       "      <td>1</td>\n",
       "      <td>1</td>\n",
       "      <td>0</td>\n",
       "      <td>2</td>\n",
       "      <td>1</td>\n",
       "    </tr>\n",
       "    <tr>\n",
       "      <th>2</th>\n",
       "      <td>Y</td>\n",
       "      <td>N</td>\n",
       "      <td>0</td>\n",
       "      <td>Commercial associate</td>\n",
       "      <td>Higher education</td>\n",
       "      <td>Married</td>\n",
       "      <td>House / apartment</td>\n",
       "      <td>-586</td>\n",
       "      <td>1</td>\n",
       "      <td>1</td>\n",
       "      <td>1</td>\n",
       "      <td>0</td>\n",
       "      <td>2</td>\n",
       "      <td>1</td>\n",
       "    </tr>\n",
       "    <tr>\n",
       "      <th>3</th>\n",
       "      <td>Y</td>\n",
       "      <td>N</td>\n",
       "      <td>0</td>\n",
       "      <td>Commercial associate</td>\n",
       "      <td>Higher education</td>\n",
       "      <td>Married</td>\n",
       "      <td>House / apartment</td>\n",
       "      <td>-586</td>\n",
       "      <td>1</td>\n",
       "      <td>1</td>\n",
       "      <td>1</td>\n",
       "      <td>0</td>\n",
       "      <td>2</td>\n",
       "      <td>1</td>\n",
       "    </tr>\n",
       "    <tr>\n",
       "      <th>5</th>\n",
       "      <td>Y</td>\n",
       "      <td>N</td>\n",
       "      <td>0</td>\n",
       "      <td>Pensioner</td>\n",
       "      <td>Higher education</td>\n",
       "      <td>Married</td>\n",
       "      <td>House / apartment</td>\n",
       "      <td>-586</td>\n",
       "      <td>1</td>\n",
       "      <td>1</td>\n",
       "      <td>1</td>\n",
       "      <td>0</td>\n",
       "      <td>2</td>\n",
       "      <td>1</td>\n",
       "    </tr>\n",
       "  </tbody>\n",
       "</table>\n",
       "</div>"
      ],
      "text/plain": [
       "  car_owner propert_owner  children           type_income         education  \\\n",
       "0         Y             Y         0             Pensioner  Higher education   \n",
       "1         Y             N         0  Commercial associate  Higher education   \n",
       "2         Y             N         0  Commercial associate  Higher education   \n",
       "3         Y             N         0  Commercial associate  Higher education   \n",
       "5         Y             N         0             Pensioner  Higher education   \n",
       "\n",
       "  marital_status       housing_type  employed_days  mobile_phone  work_phone  \\\n",
       "0        Married  House / apartment         365243             1           0   \n",
       "1        Married  House / apartment           -586             1           1   \n",
       "2        Married  House / apartment           -586             1           1   \n",
       "3        Married  House / apartment           -586             1           1   \n",
       "5        Married  House / apartment           -586             1           1   \n",
       "\n",
       "   phone  email_id  family_members  target  \n",
       "0      0         0               2       1  \n",
       "1      1         0               2       1  \n",
       "2      1         0               2       1  \n",
       "3      1         0               2       1  \n",
       "5      1         0               2       1  "
      ]
     },
     "execution_count": 13,
     "metadata": {},
     "output_type": "execute_result"
    }
   ],
   "source": [
    "input_df.head(5)"
   ]
  },
  {
   "cell_type": "markdown",
   "id": "9c7648b6",
   "metadata": {},
   "source": [
    "### Imbalance dataset?"
   ]
  },
  {
   "cell_type": "code",
   "execution_count": 14,
   "id": "7e0e0caf",
   "metadata": {},
   "outputs": [
    {
     "data": {
      "text/plain": [
       "0    0.901154\n",
       "1    0.098846\n",
       "Name: target, dtype: float64"
      ]
     },
     "execution_count": 14,
     "metadata": {},
     "output_type": "execute_result"
    }
   ],
   "source": [
    "input_df[\"target\"].value_counts(normalize=True)"
   ]
  },
  {
   "cell_type": "markdown",
   "id": "42538d31",
   "metadata": {},
   "source": [
    "Yes, but not that much"
   ]
  },
  {
   "cell_type": "markdown",
   "id": "a0836907",
   "metadata": {},
   "source": [
    "## 6. Write the results"
   ]
  },
  {
   "cell_type": "code",
   "execution_count": 15,
   "id": "4abda09d",
   "metadata": {},
   "outputs": [],
   "source": [
    "input_df.to_csv(OUTPUT_PATH, sep=\";\", header=True, index=False)"
   ]
  }
 ],
 "metadata": {
  "kernelspec": {
   "display_name": "Python [conda env:root] *",
   "language": "python",
   "name": "conda-root-py"
  },
  "language_info": {
   "codemirror_mode": {
    "name": "ipython",
    "version": 3
   },
   "file_extension": ".py",
   "mimetype": "text/x-python",
   "name": "python",
   "nbconvert_exporter": "python",
   "pygments_lexer": "ipython3",
   "version": "3.8.8"
  }
 },
 "nbformat": 4,
 "nbformat_minor": 5
}
