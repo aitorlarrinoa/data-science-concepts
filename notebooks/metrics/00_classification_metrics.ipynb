{
 "cells": [
  {
   "cell_type": "markdown",
   "id": "88d0d539",
   "metadata": {},
   "source": [
    "This notebook will be used with the aim of showing how a linear regression works:"
   ]
  },
  {
   "cell_type": "markdown",
   "id": "d737b055",
   "metadata": {},
   "source": [
    "# 1. Set up"
   ]
  },
  {
   "cell_type": "markdown",
   "id": "a937c5ed",
   "metadata": {},
   "source": [
    "# 2. Import necessary libraries"
   ]
  },
  {
   "cell_type": "code",
   "execution_count": 1,
   "id": "31150ba8",
   "metadata": {},
   "outputs": [],
   "source": [
    "import pandas as pd\n",
    "import numpy as np\n",
    "import matplotlib.pyplot as plt\n",
    "import seaborn as sns\n",
    "\n",
    "from sklearn.model_selection import train_test_split\n",
    "from sklearn.ensemble import RandomForestClassifier\n",
    "from sklearn.metrics import accuracy_score, precision_score, recall_score, \\\n",
    "f1_score, roc_auc_score, roc_curve, confusion_matrix\n",
    "\n",
    "\n",
    "import category_encoders as ce"
   ]
  },
  {
   "cell_type": "code",
   "execution_count": 2,
   "id": "1b5fe8a2",
   "metadata": {},
   "outputs": [],
   "source": [
    "import warnings\n",
    "\n",
    "warnings.simplefilter(\"ignore\")"
   ]
  },
  {
   "cell_type": "markdown",
   "id": "d2ebc4a1",
   "metadata": {},
   "source": [
    "# 3. Define global variables"
   ]
  },
  {
   "cell_type": "code",
   "execution_count": 3,
   "id": "0d1694d4",
   "metadata": {},
   "outputs": [],
   "source": [
    "INPUT_PATH = \"../../data/credit_card_data/data_modified_binary_classification.csv\""
   ]
  },
  {
   "cell_type": "markdown",
   "id": "f26f6a77",
   "metadata": {},
   "source": [
    "# 4. Functions"
   ]
  },
  {
   "cell_type": "markdown",
   "id": "44121c29",
   "metadata": {},
   "source": [
    "# 5. Code"
   ]
  },
  {
   "cell_type": "markdown",
   "id": "ad9956f7",
   "metadata": {},
   "source": [
    "We are going to create a simple binary classification model, making use of the data we transformed in the *00_transform_data_binary_classification.ipynb* notebook. All needed information about the data is sotred there."
   ]
  },
  {
   "cell_type": "markdown",
   "id": "b4983492",
   "metadata": {},
   "source": [
    "## 5.1. Load and transform data"
   ]
  },
  {
   "cell_type": "markdown",
   "id": "db2aa116",
   "metadata": {},
   "source": [
    "First of all we are going to load the both the data and the target variables making use of pandas library"
   ]
  },
  {
   "cell_type": "code",
   "execution_count": 4,
   "id": "7d0833a9",
   "metadata": {},
   "outputs": [
    {
     "data": {
      "text/html": [
       "<div>\n",
       "<style scoped>\n",
       "    .dataframe tbody tr th:only-of-type {\n",
       "        vertical-align: middle;\n",
       "    }\n",
       "\n",
       "    .dataframe tbody tr th {\n",
       "        vertical-align: top;\n",
       "    }\n",
       "\n",
       "    .dataframe thead th {\n",
       "        text-align: right;\n",
       "    }\n",
       "</style>\n",
       "<table border=\"1\" class=\"dataframe\">\n",
       "  <thead>\n",
       "    <tr style=\"text-align: right;\">\n",
       "      <th></th>\n",
       "      <th>car_owner</th>\n",
       "      <th>propert_owner</th>\n",
       "      <th>children</th>\n",
       "      <th>type_income</th>\n",
       "      <th>education</th>\n",
       "      <th>marital_status</th>\n",
       "      <th>housing_type</th>\n",
       "      <th>employed_days</th>\n",
       "      <th>mobile_phone</th>\n",
       "      <th>work_phone</th>\n",
       "      <th>phone</th>\n",
       "      <th>email_id</th>\n",
       "      <th>family_members</th>\n",
       "      <th>target</th>\n",
       "    </tr>\n",
       "  </thead>\n",
       "  <tbody>\n",
       "    <tr>\n",
       "      <th>0</th>\n",
       "      <td>Y</td>\n",
       "      <td>Y</td>\n",
       "      <td>0</td>\n",
       "      <td>Pensioner</td>\n",
       "      <td>Higher education</td>\n",
       "      <td>Married</td>\n",
       "      <td>House / apartment</td>\n",
       "      <td>365243</td>\n",
       "      <td>1</td>\n",
       "      <td>0</td>\n",
       "      <td>0</td>\n",
       "      <td>0</td>\n",
       "      <td>2</td>\n",
       "      <td>1</td>\n",
       "    </tr>\n",
       "    <tr>\n",
       "      <th>1</th>\n",
       "      <td>Y</td>\n",
       "      <td>N</td>\n",
       "      <td>0</td>\n",
       "      <td>Commercial associate</td>\n",
       "      <td>Higher education</td>\n",
       "      <td>Married</td>\n",
       "      <td>House / apartment</td>\n",
       "      <td>-586</td>\n",
       "      <td>1</td>\n",
       "      <td>1</td>\n",
       "      <td>1</td>\n",
       "      <td>0</td>\n",
       "      <td>2</td>\n",
       "      <td>1</td>\n",
       "    </tr>\n",
       "    <tr>\n",
       "      <th>2</th>\n",
       "      <td>Y</td>\n",
       "      <td>N</td>\n",
       "      <td>0</td>\n",
       "      <td>Commercial associate</td>\n",
       "      <td>Higher education</td>\n",
       "      <td>Married</td>\n",
       "      <td>House / apartment</td>\n",
       "      <td>-586</td>\n",
       "      <td>1</td>\n",
       "      <td>1</td>\n",
       "      <td>1</td>\n",
       "      <td>0</td>\n",
       "      <td>2</td>\n",
       "      <td>1</td>\n",
       "    </tr>\n",
       "    <tr>\n",
       "      <th>3</th>\n",
       "      <td>Y</td>\n",
       "      <td>N</td>\n",
       "      <td>0</td>\n",
       "      <td>Commercial associate</td>\n",
       "      <td>Higher education</td>\n",
       "      <td>Married</td>\n",
       "      <td>House / apartment</td>\n",
       "      <td>-586</td>\n",
       "      <td>1</td>\n",
       "      <td>1</td>\n",
       "      <td>1</td>\n",
       "      <td>0</td>\n",
       "      <td>2</td>\n",
       "      <td>1</td>\n",
       "    </tr>\n",
       "    <tr>\n",
       "      <th>4</th>\n",
       "      <td>Y</td>\n",
       "      <td>N</td>\n",
       "      <td>0</td>\n",
       "      <td>Pensioner</td>\n",
       "      <td>Higher education</td>\n",
       "      <td>Married</td>\n",
       "      <td>House / apartment</td>\n",
       "      <td>-586</td>\n",
       "      <td>1</td>\n",
       "      <td>1</td>\n",
       "      <td>1</td>\n",
       "      <td>0</td>\n",
       "      <td>2</td>\n",
       "      <td>1</td>\n",
       "    </tr>\n",
       "  </tbody>\n",
       "</table>\n",
       "</div>"
      ],
      "text/plain": [
       "  car_owner propert_owner  children           type_income         education  \\\n",
       "0         Y             Y         0             Pensioner  Higher education   \n",
       "1         Y             N         0  Commercial associate  Higher education   \n",
       "2         Y             N         0  Commercial associate  Higher education   \n",
       "3         Y             N         0  Commercial associate  Higher education   \n",
       "4         Y             N         0             Pensioner  Higher education   \n",
       "\n",
       "  marital_status       housing_type  employed_days  mobile_phone  work_phone  \\\n",
       "0        Married  House / apartment         365243             1           0   \n",
       "1        Married  House / apartment           -586             1           1   \n",
       "2        Married  House / apartment           -586             1           1   \n",
       "3        Married  House / apartment           -586             1           1   \n",
       "4        Married  House / apartment           -586             1           1   \n",
       "\n",
       "   phone  email_id  family_members  target  \n",
       "0      0         0               2       1  \n",
       "1      1         0               2       1  \n",
       "2      1         0               2       1  \n",
       "3      1         0               2       1  \n",
       "4      1         0               2       1  "
      ]
     },
     "execution_count": 4,
     "metadata": {},
     "output_type": "execute_result"
    }
   ],
   "source": [
    "data = pd.read_csv(INPUT_PATH, sep=\";\")\n",
    "data.head()"
   ]
  },
  {
   "cell_type": "markdown",
   "id": "cea32d91",
   "metadata": {},
   "source": [
    "### Train / test split"
   ]
  },
  {
   "cell_type": "markdown",
   "id": "f149b9e8",
   "metadata": {},
   "source": [
    "Before doing transformations in the data, we need to divide it into train and test. **Let's remember that all transformations must be fitted in the training dataset**"
   ]
  },
  {
   "cell_type": "code",
   "execution_count": 5,
   "id": "15c5a2d4",
   "metadata": {},
   "outputs": [],
   "source": [
    "X = data.drop(\"target\", axis=1)\n",
    "y = data[\"target\"]"
   ]
  },
  {
   "cell_type": "code",
   "execution_count": 6,
   "id": "132efc68",
   "metadata": {},
   "outputs": [],
   "source": [
    "X_train, X_test, y_train, y_test = train_test_split(X, y, test_size=0.3, random_state=42)"
   ]
  },
  {
   "cell_type": "markdown",
   "id": "eaf40ff6",
   "metadata": {},
   "source": [
    "We need to transform all categorical columns to numeric. We'll do it fast making use of the target encoder:"
   ]
  },
  {
   "cell_type": "code",
   "execution_count": 7,
   "id": "77cd4ac1",
   "metadata": {},
   "outputs": [],
   "source": [
    "categorical_cols = data.select_dtypes(include=\"object\").columns"
   ]
  },
  {
   "cell_type": "markdown",
   "id": "41040341",
   "metadata": {},
   "source": [
    "We are going to use target encoder in order to transform the categorical data:"
   ]
  },
  {
   "cell_type": "code",
   "execution_count": 8,
   "id": "80420d04",
   "metadata": {},
   "outputs": [],
   "source": [
    "target_encoder = ce.TargetEncoder(cols = categorical_cols)"
   ]
  },
  {
   "cell_type": "code",
   "execution_count": 9,
   "id": "dc7abb0a",
   "metadata": {},
   "outputs": [],
   "source": [
    "X_train_processed = target_encoder.fit_transform(X_train, y_train)\n",
    "X_test_processed = target_encoder.transform(X_test)"
   ]
  },
  {
   "cell_type": "markdown",
   "id": "5fa5598c",
   "metadata": {},
   "source": [
    "## 5.2. Training"
   ]
  },
  {
   "cell_type": "markdown",
   "id": "3adc70fa",
   "metadata": {},
   "source": [
    "A simple random forest will be used in order to train the data. Let's remember this is a notebook where classification matrics are the main character and no the model!"
   ]
  },
  {
   "cell_type": "code",
   "execution_count": 10,
   "id": "877c9db8",
   "metadata": {},
   "outputs": [
    {
     "data": {
      "text/plain": [
       "RandomForestClassifier(random_state=42)"
      ]
     },
     "execution_count": 10,
     "metadata": {},
     "output_type": "execute_result"
    }
   ],
   "source": [
    "rf_classifier = RandomForestClassifier(n_estimators=100, random_state=42)\n",
    "\n",
    "# Train the Random Forest classifier on the training data\n",
    "rf_classifier.fit(X_train_processed, y_train)"
   ]
  },
  {
   "cell_type": "markdown",
   "id": "7d60b247",
   "metadata": {},
   "source": [
    "We are going to calculate the predictions of the model. Since by default when we calculate predictions, the threshold is set to 0.5, we will change it to 0.2 in order to get better metrics result, althought the threshold is something we have to be careful about!"
   ]
  },
  {
   "cell_type": "code",
   "execution_count": 11,
   "id": "d64ae54e",
   "metadata": {},
   "outputs": [],
   "source": [
    "# consider probabilistic predictions of the positive class!\n",
    "probabilistic_predictions = rf_classifier.predict_proba(X_test_processed)[:, 1]\n",
    "\n",
    "predictions = np.where(probabilistic_predictions >= 0.2, 1, 0)"
   ]
  },
  {
   "cell_type": "markdown",
   "id": "e6dcbd19",
   "metadata": {},
   "source": [
    "## 5.3. Metrics calculation"
   ]
  },
  {
   "cell_type": "markdown",
   "id": "1c36e4e5",
   "metadata": {},
   "source": [
    "Let's start with the aim of this notebook, getting to know our classification metrics:"
   ]
  },
  {
   "cell_type": "markdown",
   "id": "86e85b83",
   "metadata": {},
   "source": [
    "### 5.3.1. Confusion matrix"
   ]
  },
  {
   "cell_type": "code",
   "execution_count": 12,
   "id": "4004f617",
   "metadata": {},
   "outputs": [],
   "source": [
    "conf_matrix = confusion_matrix(y_test, predictions)"
   ]
  },
  {
   "cell_type": "markdown",
   "id": "4e3830cb",
   "metadata": {},
   "source": [
    "Let's plot this confusion matrix:"
   ]
  },
  {
   "cell_type": "code",
   "execution_count": 13,
   "id": "a6f07b7d",
   "metadata": {},
   "outputs": [
    {
     "data": {
      "image/png": "[encoded data removed]",
      "text/plain": [
       "<Figure size 576x432 with 2 Axes>"
      ]
     },
     "metadata": {
      "needs_background": "light"
     },
     "output_type": "display_data"
    }
   ],
   "source": [
    "plt.figure(figsize=(8, 6))\n",
    "sns.heatmap(conf_matrix, annot=True, cmap='Blues', fmt='g')\n",
    "plt.xlabel('Predicted labels')\n",
    "plt.ylabel('True labels')\n",
    "plt.title('Confusion Matrix')\n",
    "plt.show()"
   ]
  },
  {
   "cell_type": "markdown",
   "id": "8039eadf",
   "metadata": {},
   "source": [
    "### 5.3.1. Accuracy"
   ]
  },
  {
   "cell_type": "code",
   "execution_count": 14,
   "id": "7e4bfd7c",
   "metadata": {},
   "outputs": [
    {
     "name": "stdout",
     "output_type": "stream",
     "text": [
      "Accuracy: 0.8197115384615384\n"
     ]
    }
   ],
   "source": [
    "accuracy = accuracy_score(y_test, predictions)\n",
    "print(f\"Accuracy: {accuracy}\")"
   ]
  },
  {
   "cell_type": "markdown",
   "id": "472159f5",
   "metadata": {},
   "source": [
    "This means that the model correctly predicts around 82% of the instances in the dataset. But, if we observe the confusion matrix we can observe that this is not great news because we are getting a lot of incorrect predictions for our positive class!"
   ]
  },
  {
   "cell_type": "markdown",
   "id": "ddec0869",
   "metadata": {},
   "source": [
    "### 5.3.2. Precision and recall"
   ]
  },
  {
   "cell_type": "code",
   "execution_count": 15,
   "id": "6f8c78fb",
   "metadata": {},
   "outputs": [
    {
     "name": "stdout",
     "output_type": "stream",
     "text": [
      "Precision: 0.15517241379310345\n",
      "Recall: 0.2571428571428571\n"
     ]
    }
   ],
   "source": [
    "precision = precision_score(y_test, predictions)\n",
    "recall = recall_score(y_test, predictions)\n",
    "print(f\"Precision: {precision}\")\n",
    "print(f\"Recall: {recall}\")"
   ]
  },
  {
   "cell_type": "markdown",
   "id": "50e61044",
   "metadata": {},
   "source": [
    "This time, we can observe the following:\n",
    "\n",
    "- On the one hand, only around 15.5% of the instances predicted as positive by the model are actually true positives.\n",
    "- We have a low precision, so many instances predicted as positive are actually negative.\n",
    "- On the other hand, a recall of 25.7% indicates that the model correctly identifies approximately 25.7% of all actual positive instances in the dataset.\n",
    "- This means that the model misses a significant portion of actual positive cases."
   ]
  },
  {
   "cell_type": "markdown",
   "id": "17f8b719",
   "metadata": {},
   "source": [
    "### 5.3.4. F1 score"
   ]
  },
  {
   "cell_type": "code",
   "execution_count": 16,
   "id": "7dde8190",
   "metadata": {},
   "outputs": [
    {
     "name": "stdout",
     "output_type": "stream",
     "text": [
      "F1 score: 0.19354838709677422\n"
     ]
    }
   ],
   "source": [
    "f1 = f1_score(y_test, predictions)\n",
    "print(f\"F1 score: {f1}\")"
   ]
  },
  {
   "cell_type": "markdown",
   "id": "0d454e03",
   "metadata": {},
   "source": [
    "This is a result of what we have seen before with the precision and recall. Let's remember that f1 score represents an harmonic mean of precision and recall, so bad result in both will lead to a bad result in f1 score. "
   ]
  },
  {
   "cell_type": "markdown",
   "id": "d3ba10ca",
   "metadata": {},
   "source": [
    "### 5.3.5. AUC and roc curve"
   ]
  },
  {
   "cell_type": "code",
   "execution_count": 17,
   "id": "80368ea6",
   "metadata": {},
   "outputs": [
    {
     "name": "stdout",
     "output_type": "stream",
     "text": [
      "AUC score: 0.5935883014623173\n"
     ]
    }
   ],
   "source": [
    "auc = roc_auc_score(y_test, probabilistic_predictions)\n",
    "print(f\"AUC score: {auc}\")"
   ]
  },
  {
   "cell_type": "markdown",
   "id": "d4c8d601",
   "metadata": {},
   "source": [
    "Let's start with the plot of the roc curve, first, we need the fpr, tpr and thresholds values:"
   ]
  },
  {
   "cell_type": "code",
   "execution_count": 18,
   "id": "4b234a70",
   "metadata": {},
   "outputs": [],
   "source": [
    "fpr, tpr, thresholds = roc_curve(y_test, probabilistic_predictions)"
   ]
  },
  {
   "cell_type": "markdown",
   "id": "eb066944",
   "metadata": {},
   "source": [
    "Now, we have all the info in order to plot it:"
   ]
  },
  {
   "cell_type": "code",
   "execution_count": 19,
   "id": "096c0a28",
   "metadata": {},
   "outputs": [
    {
     "data": {
      "image/png": "[encoded data removed]",
      "text/plain": [
       "<Figure size 864x432 with 1 Axes>"
      ]
     },
     "metadata": {
      "needs_background": "light"
     },
     "output_type": "display_data"
    }
   ],
   "source": [
    "plt.figure(figsize=(12, 6))\n",
    "plt.plot(fpr, tpr, color='blue', label=f'AUC = {round(auc, 2)}')\n",
    "plt.plot([0, 1], [0, 1], linestyle='--', color='gray')\n",
    "plt.xlabel('False Positive Rate (FPR)')\n",
    "plt.ylabel('True Positive Rate (TPR)')\n",
    "plt.title('ROC Curve')\n",
    "plt.legend()\n",
    "plt.grid(True)\n",
    "plt.show()"
   ]
  },
  {
   "cell_type": "markdown",
   "id": "d7a829f0",
   "metadata": {},
   "source": [
    "The AUC value of 0.59 indicates that the model has some ability to distinguish between positive and negative instances, but its discriminatory power is modest. Let's remember that the higher the AUC score, the better the model's ability to differentiate between positive and negative instances.\n",
    "\n",
    "If we attend to the roc curve, we can see that it is no far away from the random diagonal line... as the auc score tells us"
   ]
  },
  {
   "cell_type": "markdown",
   "id": "0b4aa842",
   "metadata": {},
   "source": [
    "### 5.3.6. Gain and lift curves"
   ]
  },
  {
   "cell_type": "markdown",
   "id": "d2c3e07c",
   "metadata": {},
   "source": [
    "We'll start first with the gain curve. Since we need to make some calculations with y_test, we'll take only its values:"
   ]
  },
  {
   "cell_type": "code",
   "execution_count": 20,
   "id": "5c809dc1",
   "metadata": {},
   "outputs": [],
   "source": [
    "y_test_array = y_test.values"
   ]
  },
  {
   "cell_type": "markdown",
   "id": "a0055c3c",
   "metadata": {},
   "source": [
    "Now we need to arange the results from the most probabilistic result to the less:"
   ]
  },
  {
   "cell_type": "code",
   "execution_count": 21,
   "id": "650e2c44",
   "metadata": {},
   "outputs": [
    {
     "data": {
      "image/png": "[encoded data removed]",
      "text/plain": [
       "<Figure size 864x432 with 1 Axes>"
      ]
     },
     "metadata": {
      "needs_background": "light"
     },
     "output_type": "display_data"
    }
   ],
   "source": [
    "sorted_indices = np.argsort(probabilistic_predictions)[::-1]\n",
    "cumulative_gain = np.cumsum(y_test_array[sorted_indices]) / np.sum(y_test_array)\n",
    "cumulative_percent = np.arange(1, len(y_test_array) + 1) / len(y_test_array)\n",
    "\n",
    "# Plot Gain curve\n",
    "plt.figure(figsize=(12, 6))\n",
    "plt.plot(cumulative_percent, cumulative_gain, color=\"blue\")\n",
    "plt.plot([0, 1], [0, 1], linestyle='--', color=\"gray\")\n",
    "#plt.axvline(x=0.1, color=\"red\")\n",
    "plt.xlabel(\"Percentage of Data\")\n",
    "plt.ylabel(\"Cumulative Gain\")\n",
    "plt.title(\"Gain Curve\")\n",
    "plt.grid(True)\n",
    "plt.show()"
   ]
  },
  {
   "cell_type": "markdown",
   "id": "cf9568aa",
   "metadata": {},
   "source": [
    "We can observe that it is not a very good gain curve, in fact, the curve goes alongside the diagonal line, not giving us the info we would like to receive. "
   ]
  },
  {
   "cell_type": "markdown",
   "id": "301affaf",
   "metadata": {},
   "source": [
    "We'll do the same for the lift curve:"
   ]
  },
  {
   "cell_type": "code",
   "execution_count": 22,
   "id": "5b7dd1eb",
   "metadata": {},
   "outputs": [
    {
     "data": {
      "image/png": "[encoded data removed]",
      "text/plain": [
       "<Figure size 864x432 with 1 Axes>"
      ]
     },
     "metadata": {
      "needs_background": "light"
     },
     "output_type": "display_data"
    }
   ],
   "source": [
    "random_cumulative_gain = np.arange(1, len(y_test) + 1) / len(y_test)\n",
    "lift = cumulative_gain / random_cumulative_gain\n",
    "\n",
    "# Plot Lift curve\n",
    "plt.figure(figsize=(12, 6))\n",
    "# We exclude the first value:\n",
    "plt.plot(cumulative_percent[1:], lift[1:], color='blue')\n",
    "plt.xlabel('Percentage of Data')\n",
    "plt.ylabel('Lift')\n",
    "plt.title('Lift Curve')\n",
    "plt.grid(True)\n",
    "plt.show()"
   ]
  },
  {
   "cell_type": "markdown",
   "id": "afe04853",
   "metadata": {},
   "source": [
    "The lift curve, as we know, is used in order to see if the model aranges well the predictions, but, we observe that the curve is not descending continuously, there are sometimes where we have some hills. Definetly not a good lift chart."
   ]
  }
 ],
 "metadata": {
  "kernelspec": {
   "display_name": "Python [conda env:root] *",
   "language": "python",
   "name": "conda-root-py"
  },
  "language_info": {
   "codemirror_mode": {
    "name": "ipython",
    "version": 3
   },
   "file_extension": ".py",
   "mimetype": "text/x-python",
   "name": "python",
   "nbconvert_exporter": "python",
   "pygments_lexer": "ipython3",
   "version": "3.8.8"
  }
 },
 "nbformat": 4,
 "nbformat_minor": 5
}
