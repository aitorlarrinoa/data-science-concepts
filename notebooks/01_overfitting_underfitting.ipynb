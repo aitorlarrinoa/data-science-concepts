{
 "cells": [
  {
   "cell_type": "markdown",
   "id": "88d0d539",
   "metadata": {},
   "source": [
    "This notebook will show the impact of overfitting and underfitting when we are dealing with ML models."
   ]
  },
  {
   "cell_type": "markdown",
   "id": "d737b055",
   "metadata": {},
   "source": [
    "# 1. Set up"
   ]
  },
  {
   "cell_type": "markdown",
   "id": "a937c5ed",
   "metadata": {},
   "source": [
    "# 2. Import necessary libraries"
   ]
  },
  {
   "cell_type": "code",
   "execution_count": 48,
   "id": "31150ba8",
   "metadata": {},
   "outputs": [],
   "source": [
    "import numpy as np\n",
    "import matplotlib.pyplot as plt\n",
    "\n",
    "from sklearn.model_selection import train_test_split\n",
    "from sklearn.linear_model import LinearRegression\n",
    "from sklearn.metrics import mean_squared_error\n",
    "\n",
    "from sklearn.preprocessing import PolynomialFeatures"
   ]
  },
  {
   "cell_type": "markdown",
   "id": "d2ebc4a1",
   "metadata": {},
   "source": [
    "# 3. Define global variables"
   ]
  },
  {
   "cell_type": "markdown",
   "id": "f26f6a77",
   "metadata": {},
   "source": [
    "# 4. Functions"
   ]
  },
  {
   "cell_type": "code",
   "execution_count": 51,
   "id": "ad377297",
   "metadata": {},
   "outputs": [],
   "source": [
    "def plot_polynomial_regression(X_train: np.ndarray, \n",
    "                               X_test: np.ndarray,\n",
    "                               y_train: np.ndarray, \n",
    "                               y_test np.ndarray,\n",
    "                               model, \n",
    "                               degree: int, \n",
    "                               title: str, \n",
    "                               poly_features):\n",
    "    \"\"\"\n",
    "    Function to plot polynomial regression results in 2D.\n",
    "    \n",
    "    Parameters:\n",
    "        - X_train: Training data for X.\n",
    "        - X_test: Testing data for X.\n",
    "        - y_train: Training labels.\n",
    "        - y_test: Testing labels.\n",
    "        - model: The trained polynomial regression model.\n",
    "        - degree: Degree of the polynomial regression.\n",
    "        - title: Title of the plot.\n",
    "        - poly_features: The PolynomialFeatures instance used for transformation.\n",
    "    \"\"\"\n",
    "    plt.figure(figsize=(8, 6))\n",
    "    \n",
    "    # Puntos de datos\n",
    "    plt.scatter(X_train, y_train, color='blue', label='Training data')\n",
    "    plt.scatter(X_test, y_test, color='green', label='Test data')\n",
    "\n",
    "    # Predicciones en un rango continuo\n",
    "    X_range = np.linspace(X.min(), X.max(), 1000).reshape(-1, 1)\n",
    "    X_range_poly = poly_features.transform(X_range)\n",
    "    y_range = model.predict(X_range_poly)\n",
    "\n",
    "    # Curva del modelo\n",
    "    plt.plot(X_range, y_range, color='red', label=f'Polynomial Degree {degree}')\n",
    "    \n",
    "    # Etiquetas y leyenda\n",
    "    plt.title(title)\n",
    "    plt.xlabel('X')\n",
    "    plt.ylabel('y')\n",
    "    plt.legend()\n",
    "    plt.show()"
   ]
  },
  {
   "cell_type": "markdown",
   "id": "44121c29",
   "metadata": {},
   "source": [
    "# 5. Code"
   ]
  },
  {
   "cell_type": "markdown",
   "id": "b231ab2f",
   "metadata": {},
   "source": [
    "First of all, we need to create the synthetic data. In order to create it, we need to set a random seed."
   ]
  },
  {
   "cell_type": "code",
   "execution_count": 52,
   "id": "d9377bef",
   "metadata": {},
   "outputs": [],
   "source": [
    "np.random.seed(42)"
   ]
  },
  {
   "cell_type": "code",
   "execution_count": 53,
   "id": "86cf2788",
   "metadata": {},
   "outputs": [],
   "source": [
    "X = np.linspace(-5, 5, 100)\n",
    "y = X**2 + np.random.normal(0, 2, size=X.shape)"
   ]
  },
  {
   "cell_type": "markdown",
   "id": "8343e2e1",
   "metadata": {},
   "source": [
    "Let's show a plot of the data:"
   ]
  },
  {
   "cell_type": "code",
   "execution_count": 54,
   "id": "0db98468",
   "metadata": {},
   "outputs": [
    {
     "data": {
      "image/png": "[encoded data removed]",
      "text/plain": [
       "<Figure size 720x432 with 1 Axes>"
      ]
     },
     "metadata": {
      "needs_background": "light"
     },
     "output_type": "display_data"
    }
   ],
   "source": [
    "plt.figure(figsize=(10, 6))\n",
    "\n",
    "# Plot the data points\n",
    "plt.scatter(X, y, color='blue', label='Data Points', alpha=0.7)\n",
    "\n",
    "# Title and labels\n",
    "plt.title(\"Raw data plot\", fontsize=14, fontweight='bold')\n",
    "plt.xlabel(\"X\")\n",
    "plt.ylabel(\"y\")\n",
    "plt.legend()\n",
    "plt.grid(True)\n",
    "plt.show()"
   ]
  },
  {
   "cell_type": "markdown",
   "id": "6243ca52",
   "metadata": {},
   "source": [
    "Let's divide now the data into training and test sets. Our idea is to create two different models, an overfitted one and an underfitted one. This will give us a clear understanding of how these two different concepts act."
   ]
  },
  {
   "cell_type": "code",
   "execution_count": 55,
   "id": "ce2b6ad4",
   "metadata": {},
   "outputs": [],
   "source": [
    "X_train, X_test, y_train, y_test = train_test_split(X, y, test_size=0.2, random_state=42)"
   ]
  },
  {
   "cell_type": "code",
   "execution_count": 56,
   "id": "b5b3556b",
   "metadata": {},
   "outputs": [
    {
     "data": {
      "text/plain": [
       "(80,)"
      ]
     },
     "execution_count": 56,
     "metadata": {},
     "output_type": "execute_result"
    }
   ],
   "source": [
    "X_train.shape"
   ]
  },
  {
   "cell_type": "markdown",
   "id": "e666ea30",
   "metadata": {},
   "source": [
    "Both X_train and X_test need to be reshaped because a single column of data is demanded when fitting a model"
   ]
  },
  {
   "cell_type": "code",
   "execution_count": 57,
   "id": "db7ba276",
   "metadata": {},
   "outputs": [],
   "source": [
    "X_train = X_train.reshape(-1, 1)\n",
    "X_test = X_test.reshape(-1, 1)"
   ]
  },
  {
   "cell_type": "code",
   "execution_count": 58,
   "id": "2e2f9267",
   "metadata": {},
   "outputs": [
    {
     "data": {
      "text/plain": [
       "(80, 1)"
      ]
     },
     "execution_count": 58,
     "metadata": {},
     "output_type": "execute_result"
    }
   ],
   "source": [
    "X_train.shape"
   ]
  },
  {
   "cell_type": "markdown",
   "id": "47c05342",
   "metadata": {},
   "source": [
    "Let's dive into underfitting this time:"
   ]
  },
  {
   "cell_type": "markdown",
   "id": "2ec60081",
   "metadata": {},
   "source": [
    "## 5.1. Underfitting"
   ]
  },
  {
   "cell_type": "markdown",
   "id": "aa85e70e",
   "metadata": {},
   "source": [
    "In order to show underfitting, we are going to fit a linear regression. Thus, we will consider a polynomial regression of degree 1."
   ]
  },
  {
   "cell_type": "code",
   "execution_count": 59,
   "id": "b5dfcc89",
   "metadata": {
    "scrolled": false
   },
   "outputs": [
    {
     "data": {
      "text/plain": [
       "LinearRegression()"
      ]
     },
     "execution_count": 59,
     "metadata": {},
     "output_type": "execute_result"
    }
   ],
   "source": [
    "linear_reg = LinearRegression()\n",
    "linear_reg.fit(X_train, y_train)"
   ]
  },
  {
   "cell_type": "markdown",
   "id": "88f4369f",
   "metadata": {},
   "source": [
    "Let's generate predictions and metrics now:"
   ]
  },
  {
   "cell_type": "code",
   "execution_count": 60,
   "id": "79fc1c66",
   "metadata": {},
   "outputs": [],
   "source": [
    "train_preds = linear_reg.predict(X_train)\n",
    "test_preds = linear_reg.predict(X_test)"
   ]
  },
  {
   "cell_type": "code",
   "execution_count": 61,
   "id": "c54abda1",
   "metadata": {},
   "outputs": [],
   "source": [
    "train_mse = round(mean_squared_error(y_train, train_preds), 2)\n",
    "test_mse = round(mean_squared_error(y_test, test_preds), 2)"
   ]
  },
  {
   "cell_type": "markdown",
   "id": "c4126461",
   "metadata": {},
   "source": [
    "Finally, making use of the function defined before, we can plot the result:"
   ]
  },
  {
   "cell_type": "code",
   "execution_count": 63,
   "id": "dc4b7323",
   "metadata": {},
   "outputs": [
    {
     "data": {
      "image/png": "[encoded data removed]",
      "text/plain": [
       "<Figure size 576x432 with 1 Axes>"
      ]
     },
     "metadata": {
      "needs_background": "light"
     },
     "output_type": "display_data"
    }
   ],
   "source": [
    "plot_model_predictions(\n",
    "    X_train, X_test, y_train, y_test, \n",
    "    linear_reg, 1, \n",
    "    f\"Underfitting: Linear Model (MSE train: {train_mse}, MSE test: {test_mse:.2f})\")"
   ]
  },
  {
   "cell_type": "markdown",
   "id": "5ae29493",
   "metadata": {},
   "source": [
    "Clearly we are in front of an underfitting case. The line does not fit at all our data points and the performance of the model is very poor as can be seen by MSE metrics in train and test sets. Let's dive now into an overfitting case:"
   ]
  },
  {
   "cell_type": "markdown",
   "id": "89478da4",
   "metadata": {},
   "source": [
    "## 5.2. Overfitting"
   ]
  },
  {
   "cell_type": "markdown",
   "id": "bf82fcb6",
   "metadata": {},
   "source": [
    "Let's consider now a high degree polynomial regression in order to look for overfitting:"
   ]
  },
  {
   "cell_type": "code",
   "execution_count": 64,
   "id": "e4f43ecd",
   "metadata": {},
   "outputs": [],
   "source": [
    "degree = 22\n",
    "\n",
    "poly_features = PolynomialFeatures(degree=degree)\n",
    "X_train_poly = poly_features.fit_transform(X_train)\n",
    "X_test_poly = poly_features.transform(X_test)"
   ]
  },
  {
   "cell_type": "markdown",
   "id": "2e195afe",
   "metadata": {},
   "source": [
    "Let's train the model:"
   ]
  },
  {
   "cell_type": "code",
   "execution_count": 65,
   "id": "aa2f1f0b",
   "metadata": {},
   "outputs": [
    {
     "data": {
      "text/plain": [
       "LinearRegression()"
      ]
     },
     "execution_count": 65,
     "metadata": {},
     "output_type": "execute_result"
    }
   ],
   "source": [
    "poly_reg = LinearRegression()\n",
    "poly_reg.fit(X_train_poly, y_train)"
   ]
  },
  {
   "cell_type": "code",
   "execution_count": 69,
   "id": "c0335dd7",
   "metadata": {},
   "outputs": [],
   "source": [
    "y_train_pred = poly_reg.predict(X_train_poly)\n",
    "y_test_pred = poly_reg.predict(X_test_poly)\n",
    "train_mse = round(mean_squared_error(y_train, y_train_pred), 2)\n",
    "test_mse = round(mean_squared_error(y_test, y_test_pred), 2)"
   ]
  },
  {
   "cell_type": "markdown",
   "id": "f47e5473",
   "metadata": {},
   "source": [
    "Let's plot now our model against the data:"
   ]
  },
  {
   "cell_type": "code",
   "execution_count": 68,
   "id": "c21ff6fb",
   "metadata": {},
   "outputs": [
    {
     "data": {
      "image/png": "[encoded data removed]",
      "text/plain": [
       "<Figure size 576x432 with 1 Axes>"
      ]
     },
     "metadata": {
      "needs_background": "light"
     },
     "output_type": "display_data"
    }
   ],
   "source": [
    "plot_polynomial_regression(\n",
    "    X_train, X_test, y_train, y_test, \n",
    "    poly_reg, degree, \n",
    "    f\"Overfitting Example: Degree {degree}\\nTrain MSE: {train_mse}, Test MSE: {test_mse}\", \n",
    "    poly_features\n",
    ")"
   ]
  },
  {
   "cell_type": "markdown",
   "id": "6a4f06e8",
   "metadata": {},
   "source": [
    "Thus, we can observe that the model (red line) fits the training data extremely well, as reflected by the low Train MSE (2.61). However, the model performs poorly on the test data, as indicated by the higher Test MSE (4.55)."
   ]
  },
  {
   "cell_type": "markdown",
   "id": "c1993970",
   "metadata": {},
   "source": [
    "If we consider a new data point now, a little bit different from training data, the error will be quite high due to overfitting. Thus, our main goal when training a model should be to look for generalization."
   ]
  },
  {
   "cell_type": "code",
   "execution_count": null,
   "id": "1ab75651",
   "metadata": {},
   "outputs": [],
   "source": []
  }
 ],
 "metadata": {
  "kernelspec": {
   "display_name": "Python [conda env:root] *",
   "language": "python",
   "name": "conda-root-py"
  },
  "language_info": {
   "codemirror_mode": {
    "name": "ipython",
    "version": 3
   },
   "file_extension": ".py",
   "mimetype": "text/x-python",
   "name": "python",
   "nbconvert_exporter": "python",
   "pygments_lexer": "ipython3",
   "version": "3.8.8"
  }
 },
 "nbformat": 4,
 "nbformat_minor": 5
}
