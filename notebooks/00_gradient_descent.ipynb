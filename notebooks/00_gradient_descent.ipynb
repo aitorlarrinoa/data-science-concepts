{
 "cells": [
  {
   "cell_type": "markdown",
   "id": "f5b65e7f",
   "metadata": {},
   "source": [
    "This notebook will be used with the aim of showing how gradient descent works:"
   ]
  },
  {
   "cell_type": "markdown",
   "id": "b66c6f59",
   "metadata": {},
   "source": [
    "# 1. Set up"
   ]
  },
  {
   "cell_type": "markdown",
   "id": "793694f6",
   "metadata": {},
   "source": [
    "# 2. Import necessary libraries"
   ]
  },
  {
   "cell_type": "code",
   "execution_count": 15,
   "id": "a0233f5f",
   "metadata": {},
   "outputs": [],
   "source": [
    "import numpy as np\n",
    "import matplotlib.pyplot as plt\n",
    "import sympy as sp"
   ]
  },
  {
   "cell_type": "markdown",
   "id": "ad422aab",
   "metadata": {},
   "source": [
    "# 3. Define global variables"
   ]
  },
  {
   "cell_type": "code",
   "execution_count": 20,
   "id": "a5fcaf60",
   "metadata": {},
   "outputs": [],
   "source": [
    "# We set initial parameters in order to run the gradient descent\n",
    "initial_theta = 4.0\n",
    "learning_rate = 0.1\n",
    "iterations = 10"
   ]
  },
  {
   "cell_type": "markdown",
   "id": "d6458ead",
   "metadata": {},
   "source": [
    "# 4. Functions"
   ]
  },
  {
   "cell_type": "code",
   "execution_count": 16,
   "id": "cb20f37a",
   "metadata": {},
   "outputs": [],
   "source": [
    "def cost_function(theta:float) -> float:\n",
    "    \"\"\"\n",
    "    theta**2 function\n",
    "    \n",
    "    Parameters:\n",
    "        - theta: The variable we want to use\n",
    "        \n",
    "    Returns:\n",
    "        - theta**2: The value of the created function\n",
    "    \"\"\"\n",
    "    return theta**2"
   ]
  },
  {
   "cell_type": "code",
   "execution_count": 23,
   "id": "d8fb9b9b",
   "metadata": {},
   "outputs": [],
   "source": [
    "def calculate_derivative(theta: float):\n",
    "    \"\"\"\n",
    "    Returns the derivative of the function theta**2\n",
    "\n",
    "    Parameters:\n",
    "        - theta: \n",
    "\n",
    "    Returns:\n",
    "        - The derivative.\n",
    "    \"\"\"\n",
    "    return 2*theta"
   ]
  },
  {
   "cell_type": "code",
   "execution_count": 24,
   "id": "b9198af1",
   "metadata": {},
   "outputs": [],
   "source": [
    "def gradient_descent(initial_theta: float, \n",
    "                     learning_rate: float, \n",
    "                     iterations: int) -> np.array:\n",
    "    \"\"\"\n",
    "    This function performs the gradient descent and returns different theta updated values \n",
    "    that will be closer and closer to the minimum of the function while increasing the # of \n",
    "    iterations\n",
    "    \n",
    "    Parameters:\n",
    "        - initial_theta: The initial theta value.\n",
    "        - learning_rate: The learning_rate value.\n",
    "        - iterations: The number of iterations we want to perform\n",
    "    \n",
    "    Returns\n",
    "        - np.array(theta_values): An array with all updated theta values\n",
    "    \n",
    "    \"\"\"\n",
    "    theta_values = [initial_theta]\n",
    "    \n",
    "    for _ in range(iterations):\n",
    "        # we take the last theta value\n",
    "        current_theta = theta_values[-1]\n",
    "        # we update the new theta value\n",
    "        derivative = calculate_derivative(current_theta)\n",
    "        new_theta = current_theta - learning_rate * derivative\n",
    "        theta_values.append(new_theta)\n",
    "    \n",
    "    return np.array(theta_values)"
   ]
  },
  {
   "cell_type": "markdown",
   "id": "52d851a5",
   "metadata": {},
   "source": [
    "# 5. Code"
   ]
  },
  {
   "cell_type": "markdown",
   "id": "196cbb6b",
   "metadata": {},
   "source": [
    "First of all we are going to create an easy function. This easy function will be used as an example in order to see the power of gradient descent"
   ]
  },
  {
   "cell_type": "code",
   "execution_count": 25,
   "id": "73874839",
   "metadata": {},
   "outputs": [],
   "source": [
    "theta_update_values = gradient_descent(initial_theta, learning_rate, iterations)"
   ]
  },
  {
   "cell_type": "markdown",
   "id": "0f342f30",
   "metadata": {},
   "source": []
  },
  {
   "cell_type": "code",
   "execution_count": 12,
   "id": "7377e9c6",
   "metadata": {},
   "outputs": [
    {
     "data": {
      "image/png": "[encoded data removed]",
      "text/plain": [
       "<Figure size 432x288 with 1 Axes>"
      ]
     },
     "metadata": {
      "needs_background": "light"
     },
     "output_type": "display_data"
    }
   ],
   "source": [
    "# Generate data for plotting\n",
    "theta_vals = np.linspace(-5, 5, 100)\n",
    "cost_vals = cost_function(theta_vals)\n",
    "\n",
    "# Plotting with style\n",
    "plt.plot(theta_vals, cost_vals, label='Cost Function', color='skyblue', linestyle='-')\n",
    "plt.title('Cost function representation', fontsize=14, fontweight='bold', color='navy')\n",
    "plt.xlabel('Theta', fontsize=12, fontweight='bold', color='darkgreen')\n",
    "plt.ylabel('Cost', fontsize=12, fontweight='bold', color='darkgreen')\n",
    "plt.legend(fontsize=10)\n",
    "plt.grid(True, linestyle='--', alpha=0.7)\n",
    "plt.show()"
   ]
  },
  {
   "cell_type": "code",
   "execution_count": null,
   "id": "373c00b6",
   "metadata": {},
   "outputs": [],
   "source": []
  }
 ],
 "metadata": {
  "kernelspec": {
   "display_name": "Python [conda env:root] *",
   "language": "python",
   "name": "conda-root-py"
  },
  "language_info": {
   "codemirror_mode": {
    "name": "ipython",
    "version": 3
   },
   "file_extension": ".py",
   "mimetype": "text/x-python",
   "name": "python",
   "nbconvert_exporter": "python",
   "pygments_lexer": "ipython3",
   "version": "3.8.8"
  }
 },
 "nbformat": 4,
 "nbformat_minor": 5
}
